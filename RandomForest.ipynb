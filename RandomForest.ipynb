{
  "nbformat": 4,
  "nbformat_minor": 0,
  "metadata": {
    "colab": {
      "name": "RandomForest.ipynb",
      "provenance": [],
      "collapsed_sections": []
    },
    "kernelspec": {
      "name": "python3",
      "display_name": "Python 3"
    },
    "language_info": {
      "name": "python"
    }
  },
  "cells": [
    {
      "cell_type": "code",
      "metadata": {
        "id": "7OXso0wndd7P",
        "colab": {
          "base_uri": "https://localhost:8080/"
        },
        "outputId": "75ad0431-7b65-456a-c543-e705cf10fe09"
      },
      "source": [
        "from google.colab import drive\n",
        "drive.mount(\"/content/drive\")"
      ],
      "execution_count": null,
      "outputs": [
        {
          "output_type": "stream",
          "text": [
            "Mounted at /content/drive\n"
          ],
          "name": "stdout"
        }
      ]
    },
    {
      "cell_type": "code",
      "metadata": {
        "colab": {
          "base_uri": "https://localhost:8080/"
        },
        "id": "GuOOp-PZd37P",
        "outputId": "6702d135-e4b4-4446-bc7e-f20afc25eac3"
      },
      "source": [
        "cd /content/drive/My Drive/psat_summer"
      ],
      "execution_count": null,
      "outputs": [
        {
          "output_type": "stream",
          "text": [
            "/content/drive/My Drive/psat_summer\n"
          ],
          "name": "stdout"
        }
      ]
    },
    {
      "cell_type": "code",
      "metadata": {
        "id": "zVgdBDc4eAEZ"
      },
      "source": [
        "import pandas as pd\n",
        "import numpy as np\n",
        "import os\n",
        "from sklearn.ensemble import RandomForestClassifier\n",
        "from sklearn.model_selection import train_test_split,GridSearchCV\n",
        "from sklearn.model_selection import KFold\n",
        "from sklearn.metrics import accuracy_score, confusion_matrix, f1_score, classification_report\n",
        "import pickle\n",
        "import joblib"
      ],
      "execution_count": null,
      "outputs": []
    },
    {
      "cell_type": "code",
      "metadata": {
        "id": "W3CdRPczeGCK"
      },
      "source": [
        "train = pd.read_csv(\"train_mwmote.csv\")"
      ],
      "execution_count": null,
      "outputs": []
    },
    {
      "cell_type": "code",
      "metadata": {
        "id": "Ig-ras-WgOCs"
      },
      "source": [
        "y = train['target']\n",
        "x = train.drop('target', axis = 1)"
      ],
      "execution_count": null,
      "outputs": []
    },
    {
      "cell_type": "code",
      "metadata": {
        "id": "g8t2Sce6m2Yr"
      },
      "source": [
        "cf_matrix = []\n",
        "f1_scores = []"
      ],
      "execution_count": null,
      "outputs": []
    },
    {
      "cell_type": "markdown",
      "metadata": {
        "id": "GgISIK41sN_4"
      },
      "source": [
        "5 fold CV"
      ]
    },
    {
      "cell_type": "code",
      "metadata": {
        "id": "bMPPgV9snSYl"
      },
      "source": [
        "folds = KFold(n_splits = 5, shuffle = True, random_state = 0)"
      ],
      "execution_count": null,
      "outputs": []
    },
    {
      "cell_type": "code",
      "metadata": {
        "colab": {
          "base_uri": "https://localhost:8080/"
        },
        "id": "us0RmKEHnUr4",
        "outputId": "e06f2a7e-7cab-4014-e702-d9e5f3607a3c"
      },
      "source": [
        "for n_fold, (train_idx, val_idx) in enumerate(folds.split(x)) :\n",
        "    train_X, train_y = x.iloc[train_idx], y.iloc[train_idx]\n",
        "    valid_X, valid_y = x.iloc[val_idx], y.iloc[val_idx]\n",
        "\n",
        "    params = {\n",
        "    'n_estimators' : 100,\n",
        "    'max_depth' : 6,\n",
        "    'min_samples_leaf' : 20,\n",
        "    'min_samples_split' : 20\n",
        "    }\n",
        "\n",
        "    n_estimators = params['n_estimators']\n",
        "    max_depth = params['max_depth']\n",
        "    min_samples_leaf = params['min_samples_leaf']\n",
        "    min_samples_split = params['min_samples_split']\n",
        "\n",
        "    rf_clf = RandomForestClassifier(n_estimators=n_estimators, max_depth=max_depth, min_samples_leaf=min_samples_leaf, min_samples_split=min_samples_split, random_state=0)\n",
        "    rf_clf.fit(train_X, train_y)\n",
        "\n",
        "    y_pred = rf_clf.predict(valid_X)\n",
        "\n",
        "    cf_matrix.append(confusion_matrix(valid_y, y_pred))\n",
        "    f1_scores.append(f1_score(valid_y, y_pred))\n",
        "\n",
        "    print(classification_report(valid_y, y_pred, target_names=['0', '1']))\n",
        "\n",
        "cf_matrix = sum(cf_matrix)\n",
        "f1_scores = np.mean(f1_scores)\n",
        "print(\"F1 score : %f\" % f1_scores)"
      ],
      "execution_count": null,
      "outputs": [
        {
          "output_type": "stream",
          "text": [
            "              precision    recall  f1-score   support\n",
            "\n",
            "           0       0.82      0.78      0.80      5020\n",
            "           1       0.79      0.83      0.81      5057\n",
            "\n",
            "    accuracy                           0.80     10077\n",
            "   macro avg       0.80      0.80      0.80     10077\n",
            "weighted avg       0.80      0.80      0.80     10077\n",
            "\n",
            "              precision    recall  f1-score   support\n",
            "\n",
            "           0       0.83      0.77      0.80      5053\n",
            "           1       0.79      0.84      0.81      5024\n",
            "\n",
            "    accuracy                           0.81     10077\n",
            "   macro avg       0.81      0.81      0.81     10077\n",
            "weighted avg       0.81      0.81      0.81     10077\n",
            "\n",
            "              precision    recall  f1-score   support\n",
            "\n",
            "           0       0.82      0.77      0.79      5048\n",
            "           1       0.78      0.83      0.80      5028\n",
            "\n",
            "    accuracy                           0.80     10076\n",
            "   macro avg       0.80      0.80      0.80     10076\n",
            "weighted avg       0.80      0.80      0.80     10076\n",
            "\n",
            "              precision    recall  f1-score   support\n",
            "\n",
            "           0       0.81      0.77      0.79      4992\n",
            "           1       0.79      0.83      0.81      5084\n",
            "\n",
            "    accuracy                           0.80     10076\n",
            "   macro avg       0.80      0.80      0.80     10076\n",
            "weighted avg       0.80      0.80      0.80     10076\n",
            "\n",
            "              precision    recall  f1-score   support\n",
            "\n",
            "           0       0.82      0.78      0.80      5078\n",
            "           1       0.79      0.83      0.81      4998\n",
            "\n",
            "    accuracy                           0.80     10076\n",
            "   macro avg       0.80      0.80      0.80     10076\n",
            "weighted avg       0.80      0.80      0.80     10076\n",
            "\n",
            "F1 score : 0.807765\n"
          ],
          "name": "stdout"
        }
      ]
    },
    {
      "cell_type": "markdown",
      "metadata": {
        "id": "KASxMFUosKS7"
      },
      "source": [
        "Grid Search"
      ]
    },
    {
      "cell_type": "code",
      "metadata": {
        "id": "fnpph04iqk4Q"
      },
      "source": [
        "params = {\n",
        "    'n_estimators' : [200, 300, 400],\n",
        "    'max_depth' : [3, 4, 5],\n",
        "    'min_samples_leaf' : [30, 40, 50],\n",
        "    'min_samples_split' : [30, 40, 50]\n",
        "}"
      ],
      "execution_count": null,
      "outputs": []
    },
    {
      "cell_type": "code",
      "metadata": {
        "id": "n3q58mGM1x51"
      },
      "source": [
        "params = {\n",
        "    'n_estimators' : [200, 300],\n",
        "    'max_depth' : [3, 4],\n",
        "    'min_samples_leaf' : [30, 40],\n",
        "    'min_samples_split' : [30, 40]\n",
        "}"
      ],
      "execution_count": null,
      "outputs": []
    },
    {
      "cell_type": "code",
      "metadata": {
        "colab": {
          "base_uri": "https://localhost:8080/"
        },
        "id": "6Nfx9zmircT0",
        "outputId": "e1eec333-f179-4cbf-ceca-6e60e100289a"
      },
      "source": [
        "rf_clf = RandomForestClassifier(random_state=0, n_jobs=-1)\n",
        "\n",
        "rf_grid = GridSearchCV(rf_clf, param_grid=params, cv=5, n_jobs=-1, scoring='f1')\n",
        "rf_grid.fit(x, y)"
      ],
      "execution_count": null,
      "outputs": [
        {
          "output_type": "execute_result",
          "data": {
            "text/plain": [
              "GridSearchCV(cv=5, error_score=nan,\n",
              "             estimator=RandomForestClassifier(bootstrap=True, ccp_alpha=0.0,\n",
              "                                              class_weight=None,\n",
              "                                              criterion='gini', max_depth=None,\n",
              "                                              max_features='auto',\n",
              "                                              max_leaf_nodes=None,\n",
              "                                              max_samples=None,\n",
              "                                              min_impurity_decrease=0.0,\n",
              "                                              min_impurity_split=None,\n",
              "                                              min_samples_leaf=1,\n",
              "                                              min_samples_split=2,\n",
              "                                              min_weight_fraction_leaf=0.0,\n",
              "                                              n_estimators=100, n_jobs=-1,\n",
              "                                              oob_score=False, random_state=0,\n",
              "                                              verbose=0, warm_start=False),\n",
              "             iid='deprecated', n_jobs=-1,\n",
              "             param_grid={'max_depth': [3, 4], 'min_samples_leaf': [30, 40],\n",
              "                         'min_samples_split': [30, 40],\n",
              "                         'n_estimators': [200, 300]},\n",
              "             pre_dispatch='2*n_jobs', refit=True, return_train_score=False,\n",
              "             scoring='f1', verbose=0)"
            ]
          },
          "metadata": {
            "tags": []
          },
          "execution_count": 11
        }
      ]
    },
    {
      "cell_type": "code",
      "metadata": {
        "colab": {
          "base_uri": "https://localhost:8080/"
        },
        "id": "rvaD3LNRB74g",
        "outputId": "d315ee6f-5905-49aa-c7f2-97c91243fd7a"
      },
      "source": [
        "rf_grid.best_params_"
      ],
      "execution_count": null,
      "outputs": [
        {
          "output_type": "execute_result",
          "data": {
            "text/plain": [
              "{'max_depth': 4,\n",
              " 'min_samples_leaf': 30,\n",
              " 'min_samples_split': 30,\n",
              " 'n_estimators': 300}"
            ]
          },
          "metadata": {
            "tags": []
          },
          "execution_count": 13
        }
      ]
    },
    {
      "cell_type": "code",
      "metadata": {
        "colab": {
          "base_uri": "https://localhost:8080/"
        },
        "id": "RTODFkPyr9Xl",
        "outputId": "7e65d0c2-9c8c-42a9-89d8-e69da3981870"
      },
      "source": [
        "rf_grid.best_score_"
      ],
      "execution_count": null,
      "outputs": [
        {
          "output_type": "execute_result",
          "data": {
            "text/plain": [
              "0.8041521696235012"
            ]
          },
          "metadata": {
            "tags": []
          },
          "execution_count": 12
        }
      ]
    },
    {
      "cell_type": "markdown",
      "metadata": {
        "id": "hj_14a3wCVp_"
      },
      "source": [
        "Save Model"
      ]
    },
    {
      "cell_type": "code",
      "metadata": {
        "id": "augdu_QHuMvm"
      },
      "source": [
        "model = RandomForestClassifier(n_estimators=300, max_depth=4, min_samples_leaf=30, min_samples_split=30, random_state=0)"
      ],
      "execution_count": null,
      "outputs": []
    },
    {
      "cell_type": "code",
      "metadata": {
        "colab": {
          "base_uri": "https://localhost:8080/"
        },
        "id": "4BMb10cgv1C4",
        "outputId": "65b36a08-bf47-40a7-9ace-f9f859e96e77"
      },
      "source": [
        "joblib.dump(model, 'RF.pkl')"
      ],
      "execution_count": null,
      "outputs": [
        {
          "output_type": "execute_result",
          "data": {
            "text/plain": [
              "['RF.pkl']"
            ]
          },
          "metadata": {
            "tags": []
          },
          "execution_count": 115
        }
      ]
    },
    {
      "cell_type": "code",
      "metadata": {
        "id": "WWS49gnewfNK"
      },
      "source": [
        "test = pd.read_csv(\"test_pca.csv\")"
      ],
      "execution_count": null,
      "outputs": []
    },
    {
      "cell_type": "code",
      "metadata": {
        "id": "tYKVXQWGwa-h"
      },
      "source": [
        "train_X = train.drop('target', axis = 1)\n",
        "train_y = train['target']"
      ],
      "execution_count": null,
      "outputs": []
    },
    {
      "cell_type": "code",
      "metadata": {
        "colab": {
          "base_uri": "https://localhost:8080/"
        },
        "id": "S9BdFmOCwRDS",
        "outputId": "ae90e8dc-cd62-4587-9e7e-bd456dc6efb2"
      },
      "source": [
        "model.fit(train_X, train_y)"
      ],
      "execution_count": null,
      "outputs": [
        {
          "output_type": "execute_result",
          "data": {
            "text/plain": [
              "RandomForestClassifier(bootstrap=True, ccp_alpha=0.0, class_weight=None,\n",
              "                       criterion='gini', max_depth=4, max_features='auto',\n",
              "                       max_leaf_nodes=None, max_samples=None,\n",
              "                       min_impurity_decrease=0.0, min_impurity_split=None,\n",
              "                       min_samples_leaf=30, min_samples_split=30,\n",
              "                       min_weight_fraction_leaf=0.0, n_estimators=300,\n",
              "                       n_jobs=None, oob_score=False, random_state=0, verbose=0,\n",
              "                       warm_start=False)"
            ]
          },
          "metadata": {
            "tags": []
          },
          "execution_count": 17
        }
      ]
    },
    {
      "cell_type": "code",
      "metadata": {
        "id": "aHX1efZkweIu"
      },
      "source": [
        "prediction = model.predict(test)"
      ],
      "execution_count": null,
      "outputs": []
    },
    {
      "cell_type": "code",
      "metadata": {
        "colab": {
          "base_uri": "https://localhost:8080/"
        },
        "id": "QuI71FfTx3be",
        "outputId": "b2a44a32-c7d6-4beb-d9b4-afaea41a5c99"
      },
      "source": [
        "test.shape"
      ],
      "execution_count": null,
      "outputs": [
        {
          "output_type": "execute_result",
          "data": {
            "text/plain": [
              "(2000, 189)"
            ]
          },
          "metadata": {
            "tags": []
          },
          "execution_count": 19
        }
      ]
    },
    {
      "cell_type": "code",
      "metadata": {
        "id": "ZS0UsTAtx0Jm"
      },
      "source": [
        "submission = pd.DataFrame(columns = ['id', 'target'])\n",
        "submission['id'] = range(1,2001)"
      ],
      "execution_count": null,
      "outputs": []
    },
    {
      "cell_type": "code",
      "metadata": {
        "id": "7OGJ1hFix9fn"
      },
      "source": [
        "submission['target'] = prediction"
      ],
      "execution_count": null,
      "outputs": []
    },
    {
      "cell_type": "code",
      "metadata": {
        "colab": {
          "base_uri": "https://localhost:8080/"
        },
        "id": "9Io7IeaOyNNP",
        "outputId": "0fc29f85-20bd-497f-c581-6f90a38394d9"
      },
      "source": [
        "submission['target'].value_counts()"
      ],
      "execution_count": null,
      "outputs": [
        {
          "output_type": "execute_result",
          "data": {
            "text/plain": [
              "0    1420\n",
              "1     580\n",
              "Name: target, dtype: int64"
            ]
          },
          "metadata": {
            "tags": []
          },
          "execution_count": 22
        }
      ]
    },
    {
      "cell_type": "code",
      "metadata": {
        "id": "hUmsulG7zTsO"
      },
      "source": [
        "submission.to_csv(\"randomforest_ver2.csv\", header = True, index = False)"
      ],
      "execution_count": null,
      "outputs": []
    }
  ]
}