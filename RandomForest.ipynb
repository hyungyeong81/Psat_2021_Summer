{
  "nbformat": 4,
  "nbformat_minor": 0,
  "metadata": {
    "colab": {
      "name": "RandomForest",
      "provenance": [],
      "collapsed_sections": []
    },
    "kernelspec": {
      "name": "python3",
      "display_name": "Python 3"
    },
    "language_info": {
      "name": "python"
    }
  },
  "cells": [
    {
      "cell_type": "code",
      "metadata": {
        "id": "7OXso0wndd7P",
        "colab": {
          "base_uri": "https://localhost:8080/"
        },
        "outputId": "ee8b08e0-062d-4d42-8cbe-7171680a4e8d"
      },
      "source": [
        "from google.colab import drive\n",
        "drive.mount(\"/content/drive\")"
      ],
      "execution_count": 102,
      "outputs": [
        {
          "output_type": "stream",
          "text": [
            "Drive already mounted at /content/drive; to attempt to forcibly remount, call drive.mount(\"/content/drive\", force_remount=True).\n"
          ],
          "name": "stdout"
        }
      ]
    },
    {
      "cell_type": "code",
      "metadata": {
        "colab": {
          "base_uri": "https://localhost:8080/"
        },
        "id": "GuOOp-PZd37P",
        "outputId": "e93fabdf-dd76-4f0c-8282-bc7b4d9556eb"
      },
      "source": [
        "cd /content/drive/My Drive/psat_summer"
      ],
      "execution_count": 103,
      "outputs": [
        {
          "output_type": "stream",
          "text": [
            "/content/drive/My Drive/psat_summer\n"
          ],
          "name": "stdout"
        }
      ]
    },
    {
      "cell_type": "code",
      "metadata": {
        "id": "zVgdBDc4eAEZ"
      },
      "source": [
        "import pandas as pd\n",
        "import numpy as np\n",
        "import os\n",
        "from sklearn.ensemble import RandomForestClassifier\n",
        "from sklearn.model_selection import train_test_split,GridSearchCV\n",
        "from sklearn.model_selection import KFold\n",
        "from sklearn.metrics import accuracy_score, confusion_matrix, f1_score, classification_report\n",
        "import pickle\n",
        "import joblib"
      ],
      "execution_count": 108,
      "outputs": []
    },
    {
      "cell_type": "code",
      "metadata": {
        "id": "W3CdRPczeGCK"
      },
      "source": [
        "train = pd.read_csv(\"train_mwmote.csv\")"
      ],
      "execution_count": 109,
      "outputs": []
    },
    {
      "cell_type": "code",
      "metadata": {
        "id": "Ig-ras-WgOCs"
      },
      "source": [
        "y = train['target']\n",
        "x = train.drop('target', axis = 1)"
      ],
      "execution_count": 110,
      "outputs": []
    },
    {
      "cell_type": "code",
      "metadata": {
        "id": "g8t2Sce6m2Yr"
      },
      "source": [
        "cf_matrix = []\n",
        "f1_scores = []"
      ],
      "execution_count": 111,
      "outputs": []
    },
    {
      "cell_type": "code",
      "metadata": {
        "id": "bMPPgV9snSYl"
      },
      "source": [
        "folds = KFold(n_splits = 5, shuffle = True, random_state = 0)"
      ],
      "execution_count": 112,
      "outputs": []
    },
    {
      "cell_type": "code",
      "metadata": {
        "colab": {
          "base_uri": "https://localhost:8080/"
        },
        "id": "us0RmKEHnUr4",
        "outputId": "e06f2a7e-7cab-4014-e702-d9e5f3607a3c"
      },
      "source": [
        "for n_fold, (train_idx, val_idx) in enumerate(folds.split(x)) :\n",
        "    train_X, train_y = x.iloc[train_idx], y.iloc[train_idx]\n",
        "    valid_X, valid_y = x.iloc[val_idx], y.iloc[val_idx]\n",
        "\n",
        "    params = {\n",
        "    'n_estimators' : 100,\n",
        "    'max_depth' : 6,\n",
        "    'min_samples_leaf' : 20,\n",
        "    'min_samples_split' : 20\n",
        "    }\n",
        "\n",
        "    n_estimators = params['n_estimators']\n",
        "    max_depth = params['max_depth']\n",
        "    min_samples_leaf = params['min_samples_leaf']\n",
        "    min_samples_split = params['min_samples_split']\n",
        "\n",
        "    rf_clf = RandomForestClassifier(n_estimators=n_estimators, max_depth=max_depth, min_samples_leaf=min_samples_leaf, min_samples_split=min_samples_split, random_state=0)\n",
        "    rf_clf.fit(train_X, train_y)\n",
        "\n",
        "    y_pred = rf_clf.predict(valid_X)\n",
        "\n",
        "    cf_matrix.append(confusion_matrix(valid_y, y_pred))\n",
        "    f1_scores.append(f1_score(valid_y, y_pred))\n",
        "\n",
        "    print(classification_report(valid_y, y_pred, target_names=['0', '1']))\n",
        "\n",
        "cf_matrix = sum(cf_matrix)\n",
        "f1_scores = np.mean(f1_scores)\n",
        "print(\"F1 score : %f\" % f1_scores)"
      ],
      "execution_count": 113,
      "outputs": [
        {
          "output_type": "stream",
          "text": [
            "              precision    recall  f1-score   support\n",
            "\n",
            "           0       0.82      0.78      0.80      5020\n",
            "           1       0.79      0.83      0.81      5057\n",
            "\n",
            "    accuracy                           0.80     10077\n",
            "   macro avg       0.80      0.80      0.80     10077\n",
            "weighted avg       0.80      0.80      0.80     10077\n",
            "\n",
            "              precision    recall  f1-score   support\n",
            "\n",
            "           0       0.83      0.77      0.80      5053\n",
            "           1       0.79      0.84      0.81      5024\n",
            "\n",
            "    accuracy                           0.81     10077\n",
            "   macro avg       0.81      0.81      0.81     10077\n",
            "weighted avg       0.81      0.81      0.81     10077\n",
            "\n",
            "              precision    recall  f1-score   support\n",
            "\n",
            "           0       0.82      0.77      0.79      5048\n",
            "           1       0.78      0.83      0.80      5028\n",
            "\n",
            "    accuracy                           0.80     10076\n",
            "   macro avg       0.80      0.80      0.80     10076\n",
            "weighted avg       0.80      0.80      0.80     10076\n",
            "\n",
            "              precision    recall  f1-score   support\n",
            "\n",
            "           0       0.81      0.77      0.79      4992\n",
            "           1       0.79      0.83      0.81      5084\n",
            "\n",
            "    accuracy                           0.80     10076\n",
            "   macro avg       0.80      0.80      0.80     10076\n",
            "weighted avg       0.80      0.80      0.80     10076\n",
            "\n",
            "              precision    recall  f1-score   support\n",
            "\n",
            "           0       0.82      0.78      0.80      5078\n",
            "           1       0.79      0.83      0.81      4998\n",
            "\n",
            "    accuracy                           0.80     10076\n",
            "   macro avg       0.80      0.80      0.80     10076\n",
            "weighted avg       0.80      0.80      0.80     10076\n",
            "\n",
            "F1 score : 0.807765\n"
          ],
          "name": "stdout"
        }
      ]
    },
    {
      "cell_type": "code",
      "metadata": {
        "id": "augdu_QHuMvm"
      },
      "source": [
        "model = RandomForestClassifier(n_estimators=100, max_depth=6, min_samples_leaf=20, min_samples_split=20, random_state=0)"
      ],
      "execution_count": 114,
      "outputs": []
    },
    {
      "cell_type": "code",
      "metadata": {
        "colab": {
          "base_uri": "https://localhost:8080/"
        },
        "id": "4BMb10cgv1C4",
        "outputId": "65b36a08-bf47-40a7-9ace-f9f859e96e77"
      },
      "source": [
        "joblib.dump(model, 'RF.pkl')"
      ],
      "execution_count": 115,
      "outputs": [
        {
          "output_type": "execute_result",
          "data": {
            "text/plain": [
              "['RF.pkl']"
            ]
          },
          "metadata": {
            "tags": []
          },
          "execution_count": 115
        }
      ]
    },
    {
      "cell_type": "code",
      "metadata": {
        "id": "WWS49gnewfNK"
      },
      "source": [
        "test = pd.read_csv(\"test_pca.csv\")"
      ],
      "execution_count": 116,
      "outputs": []
    },
    {
      "cell_type": "code",
      "metadata": {
        "id": "tYKVXQWGwa-h"
      },
      "source": [
        "train_X = train.drop('target', axis = 1)\n",
        "train_y = train['target']"
      ],
      "execution_count": 117,
      "outputs": []
    },
    {
      "cell_type": "code",
      "metadata": {
        "colab": {
          "base_uri": "https://localhost:8080/"
        },
        "id": "S9BdFmOCwRDS",
        "outputId": "9739a35d-cbf5-464e-8091-549686a947dd"
      },
      "source": [
        "model.fit(train_X, train_y)"
      ],
      "execution_count": 118,
      "outputs": [
        {
          "output_type": "execute_result",
          "data": {
            "text/plain": [
              "RandomForestClassifier(bootstrap=True, ccp_alpha=0.0, class_weight=None,\n",
              "                       criterion='gini', max_depth=6, max_features='auto',\n",
              "                       max_leaf_nodes=None, max_samples=None,\n",
              "                       min_impurity_decrease=0.0, min_impurity_split=None,\n",
              "                       min_samples_leaf=20, min_samples_split=20,\n",
              "                       min_weight_fraction_leaf=0.0, n_estimators=100,\n",
              "                       n_jobs=None, oob_score=False, random_state=0, verbose=0,\n",
              "                       warm_start=False)"
            ]
          },
          "metadata": {
            "tags": []
          },
          "execution_count": 118
        }
      ]
    },
    {
      "cell_type": "code",
      "metadata": {
        "id": "aHX1efZkweIu"
      },
      "source": [
        "prediction = model.predict(test)"
      ],
      "execution_count": 119,
      "outputs": []
    },
    {
      "cell_type": "code",
      "metadata": {
        "colab": {
          "base_uri": "https://localhost:8080/"
        },
        "id": "QuI71FfTx3be",
        "outputId": "1b5ab03f-b49c-4049-cf2f-dfde79a75970"
      },
      "source": [
        "test.shape"
      ],
      "execution_count": 120,
      "outputs": [
        {
          "output_type": "execute_result",
          "data": {
            "text/plain": [
              "(2000, 189)"
            ]
          },
          "metadata": {
            "tags": []
          },
          "execution_count": 120
        }
      ]
    },
    {
      "cell_type": "code",
      "metadata": {
        "id": "ZS0UsTAtx0Jm"
      },
      "source": [
        "submission = pd.DataFrame(columns = ['id', 'target'])\n",
        "submission['id'] = range(1,2001)"
      ],
      "execution_count": 121,
      "outputs": []
    },
    {
      "cell_type": "code",
      "metadata": {
        "id": "7OGJ1hFix9fn"
      },
      "source": [
        "submission['target'] = prediction"
      ],
      "execution_count": 122,
      "outputs": []
    },
    {
      "cell_type": "code",
      "metadata": {
        "colab": {
          "base_uri": "https://localhost:8080/"
        },
        "id": "9Io7IeaOyNNP",
        "outputId": "20e71c58-1656-41c2-fcf1-2f0d028951b4"
      },
      "source": [
        "submission['target'].value_counts()"
      ],
      "execution_count": 123,
      "outputs": [
        {
          "output_type": "execute_result",
          "data": {
            "text/plain": [
              "0    1409\n",
              "1     591\n",
              "Name: target, dtype: int64"
            ]
          },
          "metadata": {
            "tags": []
          },
          "execution_count": 123
        }
      ]
    },
    {
      "cell_type": "code",
      "metadata": {
        "id": "hUmsulG7zTsO"
      },
      "source": [
        "submission.to_csv(\"randomforest_ver1.csv\", header = True, index = False)"
      ],
      "execution_count": 124,
      "outputs": []
    }
  ]
}